{
  "nbformat": 4,
  "nbformat_minor": 0,
  "metadata": {
    "colab": {
      "name": "small_conv_test_2.ipynb",
      "version": "0.3.2",
      "provenance": [],
      "collapsed_sections": [],
      "include_colab_link": true
    },
    "kernelspec": {
      "name": "python3",
      "display_name": "Python 3"
    },
    "accelerator": "TPU"
  },
  "cells": [
    {
      "cell_type": "markdown",
      "metadata": {
        "id": "view-in-github",
        "colab_type": "text"
      },
      "source": [
        "<a href=\"https://colab.research.google.com/github/rishi93/deep_learning/blob/master/small_conv_test_2.ipynb\" target=\"_parent\"><img src=\"https://colab.research.google.com/assets/colab-badge.svg\" alt=\"Open In Colab\"/></a>"
      ]
    },
    {
      "cell_type": "code",
      "metadata": {
        "id": "ltji9-OgWxSi",
        "colab_type": "code",
        "colab": {}
      },
      "source": [
        "!pip install tensorflow-gpu==2.0.0-alpha0"
      ],
      "execution_count": 0,
      "outputs": []
    },
    {
      "cell_type": "code",
      "metadata": {
        "id": "DB_sFlh4Zecv",
        "colab_type": "code",
        "colab": {}
      },
      "source": [
        "import tensorflow as tf\n",
        "from tensorflow import keras\n",
        "import matplotlib.pyplot as plt"
      ],
      "execution_count": 0,
      "outputs": []
    },
    {
      "cell_type": "code",
      "metadata": {
        "id": "FozM1b-tKTOh",
        "colab_type": "code",
        "colab": {
          "base_uri": "https://localhost:8080/",
          "height": 90
        },
        "outputId": "3af556fb-bbe1-4e2a-dffa-8a1e75294505"
      },
      "source": [
        "cifar10 = keras.datasets.cifar10\n",
        "\n",
        "(train_images, train_labels), (test_images, test_labels) = cifar10.load_data()\n",
        "\n",
        "print(train_images.shape)\n",
        "print(train_labels.shape)\n",
        "print(test_images.shape)\n",
        "print(test_labels.shape)"
      ],
      "execution_count": 4,
      "outputs": [
        {
          "output_type": "stream",
          "text": [
            "(50000, 32, 32, 3)\n",
            "(50000, 1)\n",
            "(10000, 32, 32, 3)\n",
            "(10000, 1)\n"
          ],
          "name": "stdout"
        }
      ]
    },
    {
      "cell_type": "code",
      "metadata": {
        "id": "mls87XbDKzLy",
        "colab_type": "code",
        "colab": {}
      },
      "source": [
        "model = keras.Sequential()\n",
        "\n",
        "model.add(keras.layers.Conv2D(32, (3, 3), padding='same', activation=keras.activations.relu, input_shape=(32, 32, 3)))\n",
        "model.add(keras.layers.MaxPooling2D(pool_size=(2, 2)))\n",
        "model.add(keras.layers.Dropout(0.25))\n",
        "\n",
        "model.add(keras.layers.Conv2D(64, (3, 3), padding='same', activation=keras.activations.relu))\n",
        "model.add(keras.layers.MaxPooling2D(pool_size=(2, 2)))\n",
        "model.add(keras.layers.Dropout(0.25))\n",
        "\n",
        "model.add(keras.layers.Conv2D(128, (3, 3), padding='same', activation=keras.activations.relu))\n",
        "model.add(keras.layers.MaxPooling2D(pool_size=(2, 2)))\n",
        "model.add(keras.layers.Dropout(0.25))\n",
        "\n",
        "model.add(keras.layers.Flatten())\n",
        "model.add(keras.layers.Dense(512, activation=keras.activations.relu))\n",
        "model.add(keras.layers.Dropout(0.5))\n",
        "model.add(keras.layers.Dense(10, activation=keras.activations.softmax))\n",
        "\n",
        "model.summary()"
      ],
      "execution_count": 0,
      "outputs": []
    },
    {
      "cell_type": "code",
      "metadata": {
        "id": "iRNJcv6OLOzQ",
        "colab_type": "code",
        "colab": {}
      },
      "source": [
        "model.compile(optimizer=keras.optimizers.Adam(), loss=keras.losses.sparse_categorical_crossentropy, metrics=['accuracy'])"
      ],
      "execution_count": 0,
      "outputs": []
    },
    {
      "cell_type": "code",
      "metadata": {
        "id": "42JSptIyNLSM",
        "colab_type": "code",
        "colab": {
          "base_uri": "https://localhost:8080/",
          "height": 954
        },
        "outputId": "bc6abb40-fbf8-45fc-d938-a2256bc9d0f0"
      },
      "source": [
        "model.fit(train_images, train_labels, epochs=25)"
      ],
      "execution_count": 9,
      "outputs": [
        {
          "output_type": "stream",
          "text": [
            "Epoch 1/25\n",
            "50000/50000 [==============================] - 138s 3ms/sample - loss: 2.7455 - accuracy: 0.2766\n",
            "Epoch 2/25\n",
            "50000/50000 [==============================] - 137s 3ms/sample - loss: 1.6298 - accuracy: 0.4069\n",
            "Epoch 3/25\n",
            "50000/50000 [==============================] - 137s 3ms/sample - loss: 1.5225 - accuracy: 0.4494\n",
            "Epoch 4/25\n",
            "50000/50000 [==============================] - 140s 3ms/sample - loss: 1.4538 - accuracy: 0.4796\n",
            "Epoch 5/25\n",
            "50000/50000 [==============================] - 137s 3ms/sample - loss: 1.3882 - accuracy: 0.5094\n",
            "Epoch 6/25\n",
            "50000/50000 [==============================] - 136s 3ms/sample - loss: 1.3598 - accuracy: 0.5221\n",
            "Epoch 7/25\n",
            "50000/50000 [==============================] - 136s 3ms/sample - loss: 1.3284 - accuracy: 0.5327\n",
            "Epoch 8/25\n",
            "50000/50000 [==============================] - 137s 3ms/sample - loss: 1.3192 - accuracy: 0.5386\n",
            "Epoch 9/25\n",
            "50000/50000 [==============================] - 137s 3ms/sample - loss: 1.3038 - accuracy: 0.5423\n",
            "Epoch 10/25\n",
            "50000/50000 [==============================] - 137s 3ms/sample - loss: 1.2857 - accuracy: 0.5526\n",
            "Epoch 11/25\n",
            "50000/50000 [==============================] - 136s 3ms/sample - loss: 1.2858 - accuracy: 0.5515\n",
            "Epoch 12/25\n",
            "50000/50000 [==============================] - 136s 3ms/sample - loss: 1.2713 - accuracy: 0.5588\n",
            "Epoch 13/25\n",
            "50000/50000 [==============================] - 136s 3ms/sample - loss: 1.2591 - accuracy: 0.5624\n",
            "Epoch 14/25\n",
            "50000/50000 [==============================] - 136s 3ms/sample - loss: 1.2524 - accuracy: 0.5655\n",
            "Epoch 15/25\n",
            "50000/50000 [==============================] - 136s 3ms/sample - loss: 1.2506 - accuracy: 0.5671\n",
            "Epoch 16/25\n",
            "50000/50000 [==============================] - 135s 3ms/sample - loss: 1.2578 - accuracy: 0.5660\n",
            "Epoch 17/25\n",
            "50000/50000 [==============================] - 135s 3ms/sample - loss: 1.2453 - accuracy: 0.5660\n",
            "Epoch 18/25\n",
            "50000/50000 [==============================] - 135s 3ms/sample - loss: 1.2499 - accuracy: 0.5670\n",
            "Epoch 19/25\n",
            "50000/50000 [==============================] - 135s 3ms/sample - loss: 1.2402 - accuracy: 0.5728\n",
            "Epoch 20/25\n",
            "50000/50000 [==============================] - 134s 3ms/sample - loss: 1.2461 - accuracy: 0.5702\n",
            "Epoch 21/25\n",
            "50000/50000 [==============================] - 135s 3ms/sample - loss: 1.2418 - accuracy: 0.5708\n",
            "Epoch 22/25\n",
            "50000/50000 [==============================] - 135s 3ms/sample - loss: 1.2374 - accuracy: 0.5742\n",
            "Epoch 23/25\n",
            "50000/50000 [==============================] - 135s 3ms/sample - loss: 1.2397 - accuracy: 0.5735\n",
            "Epoch 24/25\n",
            "50000/50000 [==============================] - 136s 3ms/sample - loss: 1.2362 - accuracy: 0.5749\n",
            "Epoch 25/25\n",
            "50000/50000 [==============================] - 135s 3ms/sample - loss: 1.2328 - accuracy: 0.5768\n"
          ],
          "name": "stdout"
        },
        {
          "output_type": "execute_result",
          "data": {
            "text/plain": [
              "<tensorflow.python.keras.callbacks.History at 0x7f010f898cc0>"
            ]
          },
          "metadata": {
            "tags": []
          },
          "execution_count": 9
        }
      ]
    },
    {
      "cell_type": "code",
      "metadata": {
        "id": "dob2XsFONQA8",
        "colab_type": "code",
        "colab": {
          "base_uri": "https://localhost:8080/",
          "height": 54
        },
        "outputId": "fcd53ff0-f65a-4cdd-e28c-11f417d65a7f"
      },
      "source": [
        "test_loss, test_acc = model.evaluate(test_images, test_labels)\n",
        "\n",
        "print(test_acc)"
      ],
      "execution_count": 10,
      "outputs": [
        {
          "output_type": "stream",
          "text": [
            "10000/10000 [==============================] - 8s 806us/sample - loss: 1.0610 - accuracy: 0.6394\n",
            "0.6394\n"
          ],
          "name": "stdout"
        }
      ]
    }
  ]
}